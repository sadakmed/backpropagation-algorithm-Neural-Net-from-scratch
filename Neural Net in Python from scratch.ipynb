{
 "cells": [
  {
   "cell_type": "markdown",
   "metadata": {},
   "source": [
    "## BackPropagation Algo \n",
    "### 2 Layer"
   ]
  },
  {
   "cell_type": "code",
   "execution_count": 2,
   "metadata": {},
   "outputs": [],
   "source": [
    "import numpy as np"
   ]
  },
  {
   "cell_type": "markdown",
   "metadata": {},
   "source": [
    "Let's create all the function we going to need segmoid fct , derivation of seg. fct, and finalley the main function  "
   ]
  },
  {
   "cell_type": "code",
   "execution_count": 11,
   "metadata": {},
   "outputs": [],
   "source": [
    "\n",
    "def g(x): \n",
    "    return 1/np.exp(-x)  # return the segmoid fct \n",
    "\n",
    "def dervG(x):\n",
    "    return x*(1-x)     # calculate the derivation of  segmoid fct\n",
    "\n",
    "\n",
    "def Back_prop2(X,y,numOut,numIter):\n",
    "    #numInput is the number of  features\n",
    "    y=y.T                   #  transpose \n",
    "    \n",
    "  # random theta \n",
    "  # seed is optional  but for more deterministic   \n",
    "    np.random.seed(1)\n",
    "    theta=2*np.random.random((numOut,1))-1\n",
    "    \n",
    "    for i in range(numIter):\n",
    "        a0=X\n",
    "        #forward prop\n",
    "        a1=g(np.dot(a0,theta))\n",
    "        #error or the cost for layer 1\n",
    "        a1_error=y-a1\n",
    "        #print(l1_error[0])\n",
    "        a1_delta=a1_error*dervG(a1)\n",
    "        theta+=np.dot(a0.T,a1_delta)\n",
    "    \n",
    "    return theta\n",
    "    \n",
    "   \n"
   ]
  },
  {
   "cell_type": "code",
   "execution_count": 18,
   "metadata": {},
   "outputs": [
    {
     "data": {
      "text/plain": [
       "array([[ 4.47571156e+00],\n",
       "       [ 2.27438252e-04],\n",
       "       [-3.71952499e-01],\n",
       "       [-4.11529955e+00]])"
      ]
     },
     "execution_count": 18,
     "metadata": {},
     "output_type": "execute_result"
    }
   ],
   "source": [
    "#number of column in X should be \n",
    "\n",
    "X = np.array([  [0,0,1,1],[0,1,1,1],[1,0,1,1],[1,1,1,1],[0,0,0,1] ])\n",
    "   \n",
    "y = np.array([[0,0,1,1,0]])\n",
    "\n",
    "n,c=np.shape(X)\n",
    "\n",
    "Back_prop2(X,y,c,2000)"
   ]
  },
  {
   "cell_type": "code",
   "execution_count": 106,
   "metadata": {},
   "outputs": [],
   "source": [
    "def Back_prop3(x,y,numInput,layer,numIter):\n",
    "    y=y.T\n",
    "    np.random.seed(0)\n",
    "    theta0=2*np.random.random((3,4))-1\n",
    "    theta1=2*np.random.random((4,1))-1\n",
    "    for i in range(numIter):\n",
    "        a0=x\n",
    "        a1=g(np.dot(a0,theta0))\n",
    "        a2=g(np.dot(a1,theta1))\n",
    "        a2_error=y-a2\n",
    "        #print(a2_error[0])\n",
    "        if (i% 100) == 0:\n",
    "             print (\"Error:\" + str(np.mean(np.abs(a2_error))))\n",
    "        a2_delta=a2_error*dervG(a2)\n",
    "        \n",
    "        a1_error=np.dot(a2_delta,theta1.T)\n",
    "        a1_delta=a1_error*dervG(a1)\n",
    "  \n",
    "        theta0+=np.dot(a0.T,a1_delta)\n",
    "        theta1+=np.dot(a1.T,a2_delta)\n",
    "    return theta0,theta1\n"
   ]
  },
  {
   "cell_type": "code",
   "execution_count": 115,
   "metadata": {},
   "outputs": [
    {
     "name": "stdout",
     "output_type": "stream",
     "text": [
      "Error:0.3157818781833369\n",
      "Error:0.2598877303831933\n",
      "Error:0.25735709719910344\n",
      "Error:0.256148112184051\n",
      "Error:0.2553893540058043\n",
      "Error:0.2548526609846387\n",
      "Error:0.25444614007169\n",
      "Error:0.2541241039946647\n",
      "Error:0.2538607429577869\n",
      "Error:0.25364015969089465\n",
      "Error:0.2534519287802451\n",
      "Error:0.2532888790955574\n",
      "Error:0.25314588884795824\n",
      "Error:0.253019186701759\n",
      "Error:0.2529059247194165\n",
      "Error:0.2528039060419468\n",
      "Error:0.25271140494934635\n",
      "Error:0.252627044320397\n",
      "Error:0.25254970998936654\n",
      "Error:0.25247848952509033\n"
     ]
    },
    {
     "data": {
      "text/plain": [
       "(array([[-0.12489951,  0.41340818,  1.42752042,  0.01137085],\n",
       "        [-0.37410136,  0.36768011, -0.71576702,  0.36550039],\n",
       "        [ 0.57077565, -0.24876382,  0.75729331, -0.32072601]]),\n",
       " array([[-1.10680126],\n",
       "        [ 0.14853823],\n",
       "        [-1.69175141],\n",
       "        [-1.75456001]]))"
      ]
     },
     "execution_count": 115,
     "metadata": {},
     "output_type": "execute_result"
    }
   ],
   "source": [
    "X = np.array([  [0,0,1],\n",
    "                       [0,1,1],\n",
    "                       [1,0,1],\n",
    "                       [ 1,1,1],\n",
    "                   ])\n",
    "   \n",
    "y = np.array([[0,0,1,0]])\n",
    "\n",
    "n,c=np.shape(X)\n",
    "\n",
    "Back_prop3(X,y,n,c,2000)"
   ]
  },
  {
   "cell_type": "code",
   "execution_count": null,
   "metadata": {},
   "outputs": [],
   "source": []
  }
 ],
 "metadata": {
  "kernelspec": {
   "display_name": "Python 3",
   "language": "python",
   "name": "python3"
  },
  "language_info": {
   "codemirror_mode": {
    "name": "ipython",
    "version": 3
   },
   "file_extension": ".py",
   "mimetype": "text/x-python",
   "name": "python",
   "nbconvert_exporter": "python",
   "pygments_lexer": "ipython3",
   "version": "3.6.5"
  }
 },
 "nbformat": 4,
 "nbformat_minor": 2
}
