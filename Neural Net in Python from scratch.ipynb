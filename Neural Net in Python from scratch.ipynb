{
 "cells": [
  {
   "cell_type": "markdown",
   "metadata": {},
   "source": [
    "## BackPropagation Algo \n",
    "### 2 Layer"
   ]
  },
  {
   "cell_type": "code",
   "execution_count": 2,
   "metadata": {},
   "outputs": [],
   "source": [
    "import numpy as np"
   ]
  },
  {
   "cell_type": "markdown",
   "metadata": {},
   "source": [
    "Let's create all the function we going to need segmoid fct , derivation of seg. fct, and finalley the main function  "
   ]
  },
  {
   "cell_type": "code",
   "execution_count": 149,
   "metadata": {},
   "outputs": [],
   "source": [
    "\n",
    "def g(x): \n",
    "    return 1/np.exp(-x)  # return the segmoid fct \n",
    "\n",
    "def dervG(x):\n",
    "    return x*(1-x)     # calculate the derivation of  segmoid fct\n",
    "\n",
    "\n",
    "def Back_prop2(X,y,numOut,numIter):\n",
    "    \n",
    "    y=y.T                   #  transpose \n",
    "    \n",
    "  # random theta \n",
    "  # seed is optional  but for more deterministic   \n",
    "    np.random.seed(1)\n",
    "    theta=2*np.random.random((numOut,1))-1\n",
    "    \n",
    "    for i in range(numIter):\n",
    "        a0=X\n",
    "        #forward prop\n",
    "        a1=g(np.dot(a0,theta))\n",
    "        #error or the cost for layer 1\n",
    "        a1_error=y-a1\n",
    "        print(a1_error[0])\n",
    "        a1_delta=a1_error*dervG(a1)\n",
    "        theta+=0.1*np.dot(a0.T,a1_delta)\n",
    "    \n",
    "    return theta\n",
    "    \n",
    "   \n"
   ]
  },
  {
   "cell_type": "code",
   "execution_count": null,
   "metadata": {},
   "outputs": [],
   "source": [
    "#number of column in X should be \n",
    "\n",
    "X = np.array([  [0,0,1,1],[0,1,1,1],[1,0,1,1],[1,1,1,1],[0,0,0,1] ])\n",
    "   \n",
    "y = np.array([[0,0,1,1,0]])\n",
    "\n",
    "n,c=np.shape(X)\n",
    "\n",
    "Back_prop2(X,y,c,20000)"
   ]
  },
  {
   "cell_type": "markdown",
   "metadata": {},
   "source": [
    "### 3 Layer"
   ]
  },
  {
   "cell_type": "code",
   "execution_count": 181,
   "metadata": {},
   "outputs": [],
   "source": [
    "def Back_prop3(x,y,numInput,layer,numIter):\n",
    "    y=y.T\n",
    "    np.random.seed(0)\n",
    "    # numbers gonna be between 1  and  -2 the  first  theta has a big impact on minimizing cost \n",
    "    #due to cost is not a convex function, so u can stick in local minimum\n",
    "    theta0=2*np.random.random((numInput,layer+1))-(2)\n",
    "    theta1=2*np.random.random((layer+1,1))-2\n",
    "    for i in range(numIter):\n",
    "        a0=x\n",
    "        a1=g(np.dot(a0,theta0))\n",
    "        a2=g(np.dot(a1,theta1))\n",
    "        a2_error=y-a2\n",
    "        #print(a2_error[0])\n",
    "        if (i% 10000) == 0:\n",
    "             print (\"Error:\" + str(np.mean(np.abs(a2_error))))\n",
    "        a2_delta=a2_error*dervG(a2)\n",
    "        \n",
    "        a1_error=np.dot(a2_delta,theta1.T)\n",
    "        a1_delta=a1_error*dervG(a1)\n",
    "  \n",
    "        theta0+=0.5*np.dot(a0.T,a1_delta)\n",
    "        theta1+=0.5*np.dot(a1.T,a2_delta)\n",
    "    return theta0,theta1\n"
   ]
  },
  {
   "cell_type": "code",
   "execution_count": 182,
   "metadata": {},
   "outputs": [
    {
     "name": "stdout",
     "output_type": "stream",
     "text": [
      "Error:0.409179223340262\n",
      "Error:0.0055052346649718115\n",
      "Error:0.0038371986624644175\n",
      "Error:0.0031054530206110174\n",
      "Error:0.002672188678204644\n",
      "Error:0.002378076870449034\n",
      "Error:0.0021619177719456894\n",
      "Error:0.0019945409618558436\n",
      "Error:0.0018600566122968763\n",
      "Error:0.0017489781337008661\n",
      "Error:0.0016552483999197009\n",
      "Error:0.0015747958178949479\n",
      "Error:0.0015047697012478467\n",
      "Error:0.0014431070545946978\n",
      "Error:0.0013882734346200218\n",
      "Error:0.0013391008662221383\n",
      "Error:0.0012946826037436548\n",
      "Error:0.0012543025949072549\n",
      "Error:0.0012173868926421351\n",
      "Error:0.0011834693786708596\n",
      "Error:0.0011521670718407416\n",
      "Error:0.001123162008138312\n",
      "Error:0.0010961877215487689\n",
      "Error:0.001071019006646849\n",
      "Error:0.0010474640616427468\n",
      "Error:0.0010253583845465785\n",
      "Error:0.0010045599783863237\n",
      "Error:0.0009849455463006942\n",
      "Error:0.0009664074438331068\n",
      "Error:0.0009488512166552418\n",
      "Error:0.0009321935953593639\n",
      "Error:0.0009163608503787967\n",
      "Error:0.0009012874330525975\n",
      "Error:0.0008869148458418336\n",
      "Error:0.00087319069741991\n",
      "Error:0.000860067907928633\n",
      "Error:0.0008475040370073551\n",
      "Error:0.0008354607128064889\n",
      "Error:0.0008239031445325089\n",
      "Error:0.0008127997044656166\n",
      "Error:0.0008021215680515624\n",
      "Error:0.0007918424027727915\n",
      "Error:0.0007819380981734438\n",
      "Error:0.0007723865307657218\n",
      "Error:0.0007631673586084988\n",
      "Error:0.0007542618412459974\n",
      "Error:0.000745652681374777\n",
      "Error:0.0007373238852203657\n",
      "Error:0.000729260639065879\n",
      "Error:0.0007214491997627316\n",
      "Error:0.0007138767973939222\n",
      "Error:0.0007065315485478832\n",
      "Error:0.0006994023788236817\n",
      "Error:0.0006924789534675241\n",
      "Error:0.000685751615128286\n",
      "Error:0.0006792113278987378\n",
      "Error:0.0006728496268889133\n",
      "Error:0.0006666585727245875\n",
      "Error:0.0006606307103783169\n",
      "Error:0.0006547590318863945\n",
      "Error:0.0006490369425031666\n",
      "Error:0.0006434582299325641\n",
      "Error:0.0006380170363181851\n",
      "Error:0.0006327078326935074\n",
      "Error:0.0006275253956433232\n",
      "Error:0.000622464785964041\n",
      "Error:0.0006175213291094089\n",
      "Error:0.0006126905972559989\n",
      "Error:0.0006079683928334415\n",
      "Error:0.0006033507333730696\n",
      "Error:0.0005988338375631638\n",
      "Error:0.0005944141123828961\n",
      "Error:0.0005900881412382165\n",
      "Error:0.0005858526729884015\n",
      "Error:0.0005817046118023106\n",
      "Error:0.000577641007755523\n",
      "Error:0.0005736590481251755\n",
      "Error:0.0005697560492966623\n",
      "Error:0.0005659294492555899\n",
      "Error:0.0005621768006067641\n",
      "Error:0.0005584957640708803\n",
      "Error:0.0005548841024239383\n",
      "Error:0.0005513396748578171\n",
      "Error:0.0005478604317090684\n",
      "Error:0.000544444409531702\n",
      "Error:0.0005410897264962935\n",
      "Error:0.0005377945780937218\n",
      "Error:0.0005345572330917876\n",
      "Error:0.0005313760297656221\n",
      "Error:0.0005282493723536216\n",
      "Error:0.0005251757277295346\n",
      "Error:0.0005221536222894923\n",
      "Error:0.0005191816390039941\n",
      "Error:0.0005162584146741225\n",
      "Error:0.0005133826373231906\n",
      "Error:0.0005105530437564243\n",
      "Error:0.000507768417256597\n",
      "Error:0.0005050275854060213\n",
      "Error:0.0005023294180465622\n",
      "Error:0.0004996728253346636\n"
     ]
    },
    {
     "data": {
      "text/plain": [
       "(array([[-1.56832319,  0.30866406, -2.14054845, -2.5672253 ],\n",
       "        [-0.7278666 , -1.33497488, -0.08952349,  2.71236051],\n",
       "        [-0.38919801, -0.89165066, -0.26014952, -0.16386636]]),\n",
       " array([[-0.88547749],\n",
       "        [ 1.45314565],\n",
       "        [-2.49339563],\n",
       "        [-7.07351764]]))"
      ]
     },
     "execution_count": 182,
     "metadata": {},
     "output_type": "execute_result"
    }
   ],
   "source": [
    "X = np.array([  [0,0,1],\n",
    "                       [0,1,1],\n",
    "                       [1,0,1],\n",
    "                       [ 1,1,1],\n",
    "                   ])\n",
    "   \n",
    "y = np.array([[0,0,1,0]])\n",
    "\n",
    "n,features=np.shape(X)\n",
    "layer=3\n",
    "Back_prop3(X,y,features,layer,1000000)"
   ]
  },
  {
   "cell_type": "code",
   "execution_count": null,
   "metadata": {},
   "outputs": [],
   "source": []
  }
 ],
 "metadata": {
  "kernelspec": {
   "display_name": "Python 3",
   "language": "python",
   "name": "python3"
  },
  "language_info": {
   "codemirror_mode": {
    "name": "ipython",
    "version": 3
   },
   "file_extension": ".py",
   "mimetype": "text/x-python",
   "name": "python",
   "nbconvert_exporter": "python",
   "pygments_lexer": "ipython3",
   "version": "3.6.5"
  }
 },
 "nbformat": 4,
 "nbformat_minor": 2
}
